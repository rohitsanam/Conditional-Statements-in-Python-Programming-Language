{
 "cells": [
  {
   "cell_type": "markdown",
   "metadata": {},
   "source": [
    "## *CONDITIONAL STATEMENTS IN PYTHON*"
   ]
  },
  {
   "cell_type": "markdown",
   "metadata": {},
   "source": [
    "## 1. Conditional Statement: A conditional statement is a statement which is used to perform a specific computation based on the condition given\n",
    "    \n",
    "    1 2 3 4 5\n",
    "    \n",
    "    1. IF\n",
    "    2. IF-ELSE\n",
    "    3. IF-ELIF ELSE\n",
    "    4. NESTED IF\n",
    "    5. NESTED IF-ELSE"
   ]
  },
  {
   "cell_type": "code",
   "execution_count": 1,
   "metadata": {},
   "outputs": [
    {
     "name": "stdout",
     "output_type": "stream",
     "text": [
      "Enter a Number:10\n",
      "Divisible\n"
     ]
    }
   ],
   "source": [
    "##If\n",
    "## Syntax: if <condition>:\n",
    "            #block of code\n",
    "    \n",
    "a = int(input(\"Enter a Number:\"))\n",
    "\n",
    "#%-->modulo operator\n",
    "\n",
    "if a%2==0:\n",
    "    print(\"Divisible\")"
   ]
  },
  {
   "cell_type": "code",
   "execution_count": 2,
   "metadata": {},
   "outputs": [
    {
     "name": "stdout",
     "output_type": "stream",
     "text": [
      "Not Divisible\n"
     ]
    }
   ],
   "source": [
    "## IF-ELSE:\n",
    "## Syntax: if <condition>:\n",
    "            #block of code\n",
    "        #else:\n",
    "            #block of code\n",
    "\n",
    "a = 7\n",
    "if a%2==0:\n",
    "    print(\"Divisible\")\n",
    "else:\n",
    "    print(\"Not Divisible\")"
   ]
  },
  {
   "cell_type": "code",
   "execution_count": 3,
   "metadata": {},
   "outputs": [
    {
     "name": "stdout",
     "output_type": "stream",
     "text": [
      "Enter the percentage:95\n",
      "A+\n"
     ]
    }
   ],
   "source": [
    "# IF-ELIF-ELSE\n",
    "#student x --> 0-100\n",
    "# <40-->F\n",
    "# 40-50 -->E\n",
    "# 50-60 -->D\n",
    "## 60-70-->C\n",
    "\n",
    "#syntax : if <condition>:\n",
    "          #  block of code\n",
    "       # elif<condition>:\n",
    "          #  block of code\n",
    "        #elif<condition>:\n",
    "            #block of code\n",
    "        #else:\n",
    "            #block of code\n",
    "            \n",
    "percentage = int(input(\"Enter the percentage:\"))\n",
    "\n",
    "if percentage<40:\n",
    "    print(\"The grade secured by the student is: F\")\n",
    "elif percentage>=40 and percentage<=50:\n",
    "    print(\"E\")\n",
    "elif percentage>=50 and percentage<=60:\n",
    "    print(\"D\")\n",
    "elif percentage>=60 and percentage<=70:\n",
    "    print(\"C\")\n",
    "elif percentage>=70 and percentage<=80:\n",
    "    print(\"B\")\n",
    "elif percentage>=80 and percentage<=90:\n",
    "    print(\"A\")\n",
    "else:\n",
    "    print(\"A+\")\n",
    "    "
   ]
  },
  {
   "cell_type": "code",
   "execution_count": 4,
   "metadata": {},
   "outputs": [
    {
     "name": "stdout",
     "output_type": "stream",
     "text": [
      "Enter a Number:10\n",
      "Greater\n"
     ]
    }
   ],
   "source": [
    "## Nested-IF:\n",
    "# Syntax: if <condition1>:\n",
    "            #if <condition2>:\n",
    "                #block of code\n",
    "        \n",
    "a=int(input(\"Enter a Number:\"))\n",
    "\n",
    "if a>5:\n",
    "    if a>2:\n",
    "        print(\"Greater\")"
   ]
  },
  {
   "cell_type": "code",
   "execution_count": 5,
   "metadata": {},
   "outputs": [
    {
     "name": "stdout",
     "output_type": "stream",
     "text": [
      "Enter a Number:5\n",
      "Nothing\n"
     ]
    }
   ],
   "source": [
    "## Nested-IF-ELSE:\n",
    "# Syntax: if <condition1>:\n",
    "            #if <condition2>:\n",
    "                #block of code\n",
    "             #else:\n",
    "                #block of code\n",
    "         #else:\n",
    "             #block of code\n",
    "a=int(input(\"Enter a Number:\"))\n",
    "\n",
    "if a>5:\n",
    "    if a<2:\n",
    "        print(\"Greater\")\n",
    "    else:\n",
    "        print(\"Not Greater\")\n",
    "else:\n",
    "    print(\"Nothing\")\n"
   ]
  },
  {
   "cell_type": "code",
   "execution_count": null,
   "metadata": {},
   "outputs": [],
   "source": []
  }
 ],
 "metadata": {
  "kernelspec": {
   "display_name": "Python 3",
   "language": "python",
   "name": "python3"
  },
  "language_info": {
   "codemirror_mode": {
    "name": "ipython",
    "version": 3
   },
   "file_extension": ".py",
   "mimetype": "text/x-python",
   "name": "python",
   "nbconvert_exporter": "python",
   "pygments_lexer": "ipython3",
   "version": "3.7.6"
  }
 },
 "nbformat": 4,
 "nbformat_minor": 4
}
